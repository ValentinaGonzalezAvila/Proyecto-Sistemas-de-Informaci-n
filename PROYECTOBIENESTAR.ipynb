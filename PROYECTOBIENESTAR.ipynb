{
  "nbformat": 4,
  "nbformat_minor": 0,
  "metadata": {
    "colab": {
      "name": "PROYECTOBIENESTAR.ipynb",
      "provenance": [],
      "collapsed_sections": [],
      "include_colab_link": true
    },
    "kernelspec": {
      "name": "python3",
      "display_name": "Python 3"
    },
    "language_info": {
      "name": "python"
    }
  },
  "cells": [
    {
      "cell_type": "markdown",
      "metadata": {
        "id": "view-in-github",
        "colab_type": "text"
      },
      "source": [
        "<a href=\"https://colab.research.google.com/github/ValentinaGonzalezAvila/Proyecto-Sistemas-de-Informaci-n/blob/main/PROYECTOBIENESTAR.ipynb\" target=\"_parent\"><img src=\"https://colab.research.google.com/assets/colab-badge.svg\" alt=\"Open In Colab\"/></a>"
      ]
    },
    {
      "cell_type": "markdown",
      "source": [
        "### **Proyecto Sistemas de Información**"
      ],
      "metadata": {
        "id": "IqgyVrzEBVrQ"
      }
    },
    {
      "cell_type": "code",
      "execution_count": null,
      "metadata": {
        "id": "iQ15RGENQI-v",
        "colab": {
          "base_uri": "https://localhost:8080/"
        },
        "outputId": "a185cc51-655f-4212-fedb-44960c5089b6"
      },
      "outputs": [
        {
          "output_type": "stream",
          "name": "stdout",
          "text": [
            "<class 'pandas.core.frame.DataFrame'>\n",
            "RangeIndex: 237849 entries, 0 to 237848\n",
            "Data columns (total 10 columns):\n",
            " #   Column             Non-Null Count   Dtype \n",
            "---  ------             --------------   ----- \n",
            " 0   AÑO                237849 non-null  int64 \n",
            " 1   MES                237849 non-null  int64 \n",
            " 2   REGIONAL           237849 non-null  object\n",
            " 3   CENTRO_ZONAL       237849 non-null  object\n",
            " 4   MOTIVO_DE_INGRESO  237849 non-null  object\n",
            " 5   SEXO               237849 non-null  object\n",
            " 6   RANGO_EDAD         237849 non-null  object\n",
            " 7   GRUPO_ETNICO       237849 non-null  object\n",
            " 8   NACIONALIDAD       237849 non-null  object\n",
            " 9   CANTIDAD_PROCESOS  237849 non-null  int64 \n",
            "dtypes: int64(3), object(7)\n",
            "memory usage: 18.1+ MB\n"
          ]
        }
      ],
      "source": [
        "import numpy as np\n",
        "import pandas as pd\n",
        "\n",
        "\n",
        "# Obtener el archivo de ingresos\n",
        "datos = pd.read_excel(\"https://github.com/ValentinaGonzalezAvila/Proyecto-Sistemas-de-Informaci-n//raw/main/Ingresos_a_Procesos_Administrativos_de_Restablecimiento_de_Derechos__PARD__de_NNA.xlsx\")\n",
        "datos.info()"
      ]
    },
    {
      "cell_type": "code",
      "source": [
        "# Mostrar la estadistica descriptiva de la información del dataframe\n",
        "datos.describe()"
      ],
      "metadata": {
        "id": "1Pgf5jf1BJBl",
        "colab": {
          "base_uri": "https://localhost:8080/",
          "height": 300
        },
        "outputId": "ee543c0f-5991-4492-fa90-f2dc96394f79"
      },
      "execution_count": null,
      "outputs": [
        {
          "output_type": "execute_result",
          "data": {
            "text/plain": [
              "                 AÑO            MES  CANTIDAD_PROCESOS\n",
              "count  237849.000000  237849.000000      237849.000000\n",
              "mean     2016.598846       6.477576           1.722172\n",
              "std         2.830353       3.387798           2.031224\n",
              "min      2012.000000       1.000000           1.000000\n",
              "25%      2014.000000       3.000000           1.000000\n",
              "50%      2017.000000       6.000000           1.000000\n",
              "75%      2019.000000       9.000000           2.000000\n",
              "max      2021.000000      12.000000          74.000000"
            ],
            "text/html": [
              "\n",
              "  <div id=\"df-66c8a04a-3db0-41de-914a-b0f0a1716b7c\">\n",
              "    <div class=\"colab-df-container\">\n",
              "      <div>\n",
              "<style scoped>\n",
              "    .dataframe tbody tr th:only-of-type {\n",
              "        vertical-align: middle;\n",
              "    }\n",
              "\n",
              "    .dataframe tbody tr th {\n",
              "        vertical-align: top;\n",
              "    }\n",
              "\n",
              "    .dataframe thead th {\n",
              "        text-align: right;\n",
              "    }\n",
              "</style>\n",
              "<table border=\"1\" class=\"dataframe\">\n",
              "  <thead>\n",
              "    <tr style=\"text-align: right;\">\n",
              "      <th></th>\n",
              "      <th>AÑO</th>\n",
              "      <th>MES</th>\n",
              "      <th>CANTIDAD_PROCESOS</th>\n",
              "    </tr>\n",
              "  </thead>\n",
              "  <tbody>\n",
              "    <tr>\n",
              "      <th>count</th>\n",
              "      <td>237849.000000</td>\n",
              "      <td>237849.000000</td>\n",
              "      <td>237849.000000</td>\n",
              "    </tr>\n",
              "    <tr>\n",
              "      <th>mean</th>\n",
              "      <td>2016.598846</td>\n",
              "      <td>6.477576</td>\n",
              "      <td>1.722172</td>\n",
              "    </tr>\n",
              "    <tr>\n",
              "      <th>std</th>\n",
              "      <td>2.830353</td>\n",
              "      <td>3.387798</td>\n",
              "      <td>2.031224</td>\n",
              "    </tr>\n",
              "    <tr>\n",
              "      <th>min</th>\n",
              "      <td>2012.000000</td>\n",
              "      <td>1.000000</td>\n",
              "      <td>1.000000</td>\n",
              "    </tr>\n",
              "    <tr>\n",
              "      <th>25%</th>\n",
              "      <td>2014.000000</td>\n",
              "      <td>3.000000</td>\n",
              "      <td>1.000000</td>\n",
              "    </tr>\n",
              "    <tr>\n",
              "      <th>50%</th>\n",
              "      <td>2017.000000</td>\n",
              "      <td>6.000000</td>\n",
              "      <td>1.000000</td>\n",
              "    </tr>\n",
              "    <tr>\n",
              "      <th>75%</th>\n",
              "      <td>2019.000000</td>\n",
              "      <td>9.000000</td>\n",
              "      <td>2.000000</td>\n",
              "    </tr>\n",
              "    <tr>\n",
              "      <th>max</th>\n",
              "      <td>2021.000000</td>\n",
              "      <td>12.000000</td>\n",
              "      <td>74.000000</td>\n",
              "    </tr>\n",
              "  </tbody>\n",
              "</table>\n",
              "</div>\n",
              "      <button class=\"colab-df-convert\" onclick=\"convertToInteractive('df-66c8a04a-3db0-41de-914a-b0f0a1716b7c')\"\n",
              "              title=\"Convert this dataframe to an interactive table.\"\n",
              "              style=\"display:none;\">\n",
              "        \n",
              "  <svg xmlns=\"http://www.w3.org/2000/svg\" height=\"24px\"viewBox=\"0 0 24 24\"\n",
              "       width=\"24px\">\n",
              "    <path d=\"M0 0h24v24H0V0z\" fill=\"none\"/>\n",
              "    <path d=\"M18.56 5.44l.94 2.06.94-2.06 2.06-.94-2.06-.94-.94-2.06-.94 2.06-2.06.94zm-11 1L8.5 8.5l.94-2.06 2.06-.94-2.06-.94L8.5 2.5l-.94 2.06-2.06.94zm10 10l.94 2.06.94-2.06 2.06-.94-2.06-.94-.94-2.06-.94 2.06-2.06.94z\"/><path d=\"M17.41 7.96l-1.37-1.37c-.4-.4-.92-.59-1.43-.59-.52 0-1.04.2-1.43.59L10.3 9.45l-7.72 7.72c-.78.78-.78 2.05 0 2.83L4 21.41c.39.39.9.59 1.41.59.51 0 1.02-.2 1.41-.59l7.78-7.78 2.81-2.81c.8-.78.8-2.07 0-2.86zM5.41 20L4 18.59l7.72-7.72 1.47 1.35L5.41 20z\"/>\n",
              "  </svg>\n",
              "      </button>\n",
              "      \n",
              "  <style>\n",
              "    .colab-df-container {\n",
              "      display:flex;\n",
              "      flex-wrap:wrap;\n",
              "      gap: 12px;\n",
              "    }\n",
              "\n",
              "    .colab-df-convert {\n",
              "      background-color: #E8F0FE;\n",
              "      border: none;\n",
              "      border-radius: 50%;\n",
              "      cursor: pointer;\n",
              "      display: none;\n",
              "      fill: #1967D2;\n",
              "      height: 32px;\n",
              "      padding: 0 0 0 0;\n",
              "      width: 32px;\n",
              "    }\n",
              "\n",
              "    .colab-df-convert:hover {\n",
              "      background-color: #E2EBFA;\n",
              "      box-shadow: 0px 1px 2px rgba(60, 64, 67, 0.3), 0px 1px 3px 1px rgba(60, 64, 67, 0.15);\n",
              "      fill: #174EA6;\n",
              "    }\n",
              "\n",
              "    [theme=dark] .colab-df-convert {\n",
              "      background-color: #3B4455;\n",
              "      fill: #D2E3FC;\n",
              "    }\n",
              "\n",
              "    [theme=dark] .colab-df-convert:hover {\n",
              "      background-color: #434B5C;\n",
              "      box-shadow: 0px 1px 3px 1px rgba(0, 0, 0, 0.15);\n",
              "      filter: drop-shadow(0px 1px 2px rgba(0, 0, 0, 0.3));\n",
              "      fill: #FFFFFF;\n",
              "    }\n",
              "  </style>\n",
              "\n",
              "      <script>\n",
              "        const buttonEl =\n",
              "          document.querySelector('#df-66c8a04a-3db0-41de-914a-b0f0a1716b7c button.colab-df-convert');\n",
              "        buttonEl.style.display =\n",
              "          google.colab.kernel.accessAllowed ? 'block' : 'none';\n",
              "\n",
              "        async function convertToInteractive(key) {\n",
              "          const element = document.querySelector('#df-66c8a04a-3db0-41de-914a-b0f0a1716b7c');\n",
              "          const dataTable =\n",
              "            await google.colab.kernel.invokeFunction('convertToInteractive',\n",
              "                                                     [key], {});\n",
              "          if (!dataTable) return;\n",
              "\n",
              "          const docLinkHtml = 'Like what you see? Visit the ' +\n",
              "            '<a target=\"_blank\" href=https://colab.research.google.com/notebooks/data_table.ipynb>data table notebook</a>'\n",
              "            + ' to learn more about interactive tables.';\n",
              "          element.innerHTML = '';\n",
              "          dataTable['output_type'] = 'display_data';\n",
              "          await google.colab.output.renderOutput(dataTable, element);\n",
              "          const docLink = document.createElement('div');\n",
              "          docLink.innerHTML = docLinkHtml;\n",
              "          element.appendChild(docLink);\n",
              "        }\n",
              "      </script>\n",
              "    </div>\n",
              "  </div>\n",
              "  "
            ]
          },
          "metadata": {},
          "execution_count": 3
        }
      ]
    },
    {
      "cell_type": "code",
      "source": [
        "#¿Cuantos ingresos se presentaron en los ultimos 5 años?\n",
        "\n",
        "ingresos = datos[datos.AÑO >= 2017].sum()['CANTIDAD_PROCESOS']\n",
        "print(f\"los ingresos de los últimos 5 años fueron {ingresos}\")"
      ],
      "metadata": {
        "id": "jpqr21lFaa0m",
        "colab": {
          "base_uri": "https://localhost:8080/"
        },
        "outputId": "0e5e196a-c88f-4e69-b006-c3ba76dc2318"
      },
      "execution_count": null,
      "outputs": [
        {
          "output_type": "stream",
          "name": "stdout",
          "text": [
            "los ingresos de los últimos 5 años fueron 227519\n"
          ]
        }
      ]
    },
    {
      "cell_type": "code",
      "source": [
        "#¿Cuántos ingresos con nacionalidad colombiana y en bogota se tienen en el registro? \n",
        "\n",
        "nb = len(datos[(datos.NACIONALIDAD == \"COLOMBIANO\")&(datos.REGIONAL == \"BOGOTA\")])\n",
        "print(f\"los ingresos de Colombianos en Bogotá fueron: {nb}\")"
      ],
      "metadata": {
        "colab": {
          "base_uri": "https://localhost:8080/"
        },
        "outputId": "ff804686-a52c-40fb-efa8-f73e39b5d74b",
        "id": "0I7ZQ8w-YZBq"
      },
      "execution_count": null,
      "outputs": [
        {
          "output_type": "stream",
          "name": "stdout",
          "text": [
            "los ingresos de Colombianos en Bogotá fueron: 37569\n"
          ]
        }
      ]
    },
    {
      "cell_type": "code",
      "metadata": {
        "id": "8hsf6HZ-THGp",
        "colab": {
          "base_uri": "https://localhost:8080/",
          "height": 250
        },
        "outputId": "77e91f53-ad1d-4697-bbb8-478ae3dd9952"
      },
      "source": [
        "# Mostrar las filas que en la columna CANTIDAD_PROCESOS tengan el valor 48\n",
        "datos[(datos.CANTIDAD_PROCESOS== 48)]\n"
      ],
      "execution_count": null,
      "outputs": [
        {
          "output_type": "execute_result",
          "data": {
            "text/plain": [
              "         AÑO  MES   REGIONAL  CENTRO_ZONAL  \\\n",
              "36      2014    6  ATLANTICO  CZ HIPODROMO   \n",
              "119874  2016    5     BOGOTA      CZ CREER   \n",
              "126900  2016    8     BOGOTA      CZ CREER   \n",
              "134251  2016   11     BOGOTA      CZ CREER   \n",
              "227709  2012    8     BOGOTA      CZ CREER   \n",
              "\n",
              "                               MOTIVO_DE_INGRESO       SEXO       RANGO_EDAD  \\\n",
              "36          Condiciones Especiales de Cuidadores   Femenino  De 12 a 17 años   \n",
              "119874  Consumo de Sustancias Psicoactivas (SPA)  Masculino  De 12 a 17 años   \n",
              "126900  Consumo de Sustancias Psicoactivas (SPA)   Femenino  De 12 a 17 años   \n",
              "134251  Consumo de Sustancias Psicoactivas (SPA)  Masculino  De 12 a 17 años   \n",
              "227709  Consumo de Sustancias Psicoactivas (SPA)  Masculino  De 12 a 17 años   \n",
              "\n",
              "                                           GRUPO_ETNICO NACIONALIDAD  \\\n",
              "36      No se autoreconoce en ninguno de los anteriores   COLOMBIANO   \n",
              "119874                                  Sin Información   COLOMBIANO   \n",
              "126900                                  Sin Información   COLOMBIANO   \n",
              "134251                                  Sin Información   COLOMBIANO   \n",
              "227709  No se autoreconoce en ninguno de los anteriores   COLOMBIANO   \n",
              "\n",
              "        CANTIDAD_PROCESOS  \n",
              "36                     48  \n",
              "119874                 48  \n",
              "126900                 48  \n",
              "134251                 48  \n",
              "227709                 48  "
            ],
            "text/html": [
              "\n",
              "  <div id=\"df-5b3e712c-3e2b-4eba-ab7a-4b1a69ca1302\">\n",
              "    <div class=\"colab-df-container\">\n",
              "      <div>\n",
              "<style scoped>\n",
              "    .dataframe tbody tr th:only-of-type {\n",
              "        vertical-align: middle;\n",
              "    }\n",
              "\n",
              "    .dataframe tbody tr th {\n",
              "        vertical-align: top;\n",
              "    }\n",
              "\n",
              "    .dataframe thead th {\n",
              "        text-align: right;\n",
              "    }\n",
              "</style>\n",
              "<table border=\"1\" class=\"dataframe\">\n",
              "  <thead>\n",
              "    <tr style=\"text-align: right;\">\n",
              "      <th></th>\n",
              "      <th>AÑO</th>\n",
              "      <th>MES</th>\n",
              "      <th>REGIONAL</th>\n",
              "      <th>CENTRO_ZONAL</th>\n",
              "      <th>MOTIVO_DE_INGRESO</th>\n",
              "      <th>SEXO</th>\n",
              "      <th>RANGO_EDAD</th>\n",
              "      <th>GRUPO_ETNICO</th>\n",
              "      <th>NACIONALIDAD</th>\n",
              "      <th>CANTIDAD_PROCESOS</th>\n",
              "    </tr>\n",
              "  </thead>\n",
              "  <tbody>\n",
              "    <tr>\n",
              "      <th>36</th>\n",
              "      <td>2014</td>\n",
              "      <td>6</td>\n",
              "      <td>ATLANTICO</td>\n",
              "      <td>CZ HIPODROMO</td>\n",
              "      <td>Condiciones Especiales de Cuidadores</td>\n",
              "      <td>Femenino</td>\n",
              "      <td>De 12 a 17 años</td>\n",
              "      <td>No se autoreconoce en ninguno de los anteriores</td>\n",
              "      <td>COLOMBIANO</td>\n",
              "      <td>48</td>\n",
              "    </tr>\n",
              "    <tr>\n",
              "      <th>119874</th>\n",
              "      <td>2016</td>\n",
              "      <td>5</td>\n",
              "      <td>BOGOTA</td>\n",
              "      <td>CZ CREER</td>\n",
              "      <td>Consumo de Sustancias Psicoactivas (SPA)</td>\n",
              "      <td>Masculino</td>\n",
              "      <td>De 12 a 17 años</td>\n",
              "      <td>Sin Información</td>\n",
              "      <td>COLOMBIANO</td>\n",
              "      <td>48</td>\n",
              "    </tr>\n",
              "    <tr>\n",
              "      <th>126900</th>\n",
              "      <td>2016</td>\n",
              "      <td>8</td>\n",
              "      <td>BOGOTA</td>\n",
              "      <td>CZ CREER</td>\n",
              "      <td>Consumo de Sustancias Psicoactivas (SPA)</td>\n",
              "      <td>Femenino</td>\n",
              "      <td>De 12 a 17 años</td>\n",
              "      <td>Sin Información</td>\n",
              "      <td>COLOMBIANO</td>\n",
              "      <td>48</td>\n",
              "    </tr>\n",
              "    <tr>\n",
              "      <th>134251</th>\n",
              "      <td>2016</td>\n",
              "      <td>11</td>\n",
              "      <td>BOGOTA</td>\n",
              "      <td>CZ CREER</td>\n",
              "      <td>Consumo de Sustancias Psicoactivas (SPA)</td>\n",
              "      <td>Masculino</td>\n",
              "      <td>De 12 a 17 años</td>\n",
              "      <td>Sin Información</td>\n",
              "      <td>COLOMBIANO</td>\n",
              "      <td>48</td>\n",
              "    </tr>\n",
              "    <tr>\n",
              "      <th>227709</th>\n",
              "      <td>2012</td>\n",
              "      <td>8</td>\n",
              "      <td>BOGOTA</td>\n",
              "      <td>CZ CREER</td>\n",
              "      <td>Consumo de Sustancias Psicoactivas (SPA)</td>\n",
              "      <td>Masculino</td>\n",
              "      <td>De 12 a 17 años</td>\n",
              "      <td>No se autoreconoce en ninguno de los anteriores</td>\n",
              "      <td>COLOMBIANO</td>\n",
              "      <td>48</td>\n",
              "    </tr>\n",
              "  </tbody>\n",
              "</table>\n",
              "</div>\n",
              "      <button class=\"colab-df-convert\" onclick=\"convertToInteractive('df-5b3e712c-3e2b-4eba-ab7a-4b1a69ca1302')\"\n",
              "              title=\"Convert this dataframe to an interactive table.\"\n",
              "              style=\"display:none;\">\n",
              "        \n",
              "  <svg xmlns=\"http://www.w3.org/2000/svg\" height=\"24px\"viewBox=\"0 0 24 24\"\n",
              "       width=\"24px\">\n",
              "    <path d=\"M0 0h24v24H0V0z\" fill=\"none\"/>\n",
              "    <path d=\"M18.56 5.44l.94 2.06.94-2.06 2.06-.94-2.06-.94-.94-2.06-.94 2.06-2.06.94zm-11 1L8.5 8.5l.94-2.06 2.06-.94-2.06-.94L8.5 2.5l-.94 2.06-2.06.94zm10 10l.94 2.06.94-2.06 2.06-.94-2.06-.94-.94-2.06-.94 2.06-2.06.94z\"/><path d=\"M17.41 7.96l-1.37-1.37c-.4-.4-.92-.59-1.43-.59-.52 0-1.04.2-1.43.59L10.3 9.45l-7.72 7.72c-.78.78-.78 2.05 0 2.83L4 21.41c.39.39.9.59 1.41.59.51 0 1.02-.2 1.41-.59l7.78-7.78 2.81-2.81c.8-.78.8-2.07 0-2.86zM5.41 20L4 18.59l7.72-7.72 1.47 1.35L5.41 20z\"/>\n",
              "  </svg>\n",
              "      </button>\n",
              "      \n",
              "  <style>\n",
              "    .colab-df-container {\n",
              "      display:flex;\n",
              "      flex-wrap:wrap;\n",
              "      gap: 12px;\n",
              "    }\n",
              "\n",
              "    .colab-df-convert {\n",
              "      background-color: #E8F0FE;\n",
              "      border: none;\n",
              "      border-radius: 50%;\n",
              "      cursor: pointer;\n",
              "      display: none;\n",
              "      fill: #1967D2;\n",
              "      height: 32px;\n",
              "      padding: 0 0 0 0;\n",
              "      width: 32px;\n",
              "    }\n",
              "\n",
              "    .colab-df-convert:hover {\n",
              "      background-color: #E2EBFA;\n",
              "      box-shadow: 0px 1px 2px rgba(60, 64, 67, 0.3), 0px 1px 3px 1px rgba(60, 64, 67, 0.15);\n",
              "      fill: #174EA6;\n",
              "    }\n",
              "\n",
              "    [theme=dark] .colab-df-convert {\n",
              "      background-color: #3B4455;\n",
              "      fill: #D2E3FC;\n",
              "    }\n",
              "\n",
              "    [theme=dark] .colab-df-convert:hover {\n",
              "      background-color: #434B5C;\n",
              "      box-shadow: 0px 1px 3px 1px rgba(0, 0, 0, 0.15);\n",
              "      filter: drop-shadow(0px 1px 2px rgba(0, 0, 0, 0.3));\n",
              "      fill: #FFFFFF;\n",
              "    }\n",
              "  </style>\n",
              "\n",
              "      <script>\n",
              "        const buttonEl =\n",
              "          document.querySelector('#df-5b3e712c-3e2b-4eba-ab7a-4b1a69ca1302 button.colab-df-convert');\n",
              "        buttonEl.style.display =\n",
              "          google.colab.kernel.accessAllowed ? 'block' : 'none';\n",
              "\n",
              "        async function convertToInteractive(key) {\n",
              "          const element = document.querySelector('#df-5b3e712c-3e2b-4eba-ab7a-4b1a69ca1302');\n",
              "          const dataTable =\n",
              "            await google.colab.kernel.invokeFunction('convertToInteractive',\n",
              "                                                     [key], {});\n",
              "          if (!dataTable) return;\n",
              "\n",
              "          const docLinkHtml = 'Like what you see? Visit the ' +\n",
              "            '<a target=\"_blank\" href=https://colab.research.google.com/notebooks/data_table.ipynb>data table notebook</a>'\n",
              "            + ' to learn more about interactive tables.';\n",
              "          element.innerHTML = '';\n",
              "          dataTable['output_type'] = 'display_data';\n",
              "          await google.colab.output.renderOutput(dataTable, element);\n",
              "          const docLink = document.createElement('div');\n",
              "          docLink.innerHTML = docLinkHtml;\n",
              "          element.appendChild(docLink);\n",
              "        }\n",
              "      </script>\n",
              "    </div>\n",
              "  </div>\n",
              "  "
            ]
          },
          "metadata": {},
          "execution_count": 26
        }
      ]
    },
    {
      "cell_type": "code",
      "source": [
        "#¿En la regional de Antioquia cuántos niños fueron registrados?\n",
        "\n",
        "r = datos[(datos.REGIONAL==\"ANTIOQUIA\")].CANTIDAD_PROCESOS.sum()\n",
        "print(f\"la cantidad de niños registrados en la región de Antioquia fuerón: {r}\")\n"
      ],
      "metadata": {
        "id": "U9EDDgfYUWSX",
        "colab": {
          "base_uri": "https://localhost:8080/"
        },
        "outputId": "edb86398-cf56-489d-8185-86a290572c6f"
      },
      "execution_count": null,
      "outputs": [
        {
          "output_type": "stream",
          "name": "stdout",
          "text": [
            "la cantidad de niños registrados en la región de Antioquia fuerón: 22602\n"
          ]
        }
      ]
    },
    {
      "cell_type": "code",
      "source": [
        "#¿Cuáles son los grupos étnicos que se encuentran en el listado? \n",
        "datos.groupby(\"GRUPO_ETNICO\").size()"
      ],
      "metadata": {
        "id": "uEDTONpwDChY",
        "colab": {
          "base_uri": "https://localhost:8080/"
        },
        "outputId": "58a821d0-c554-40f0-c3ee-131410644f3e"
      },
      "execution_count": null,
      "outputs": [
        {
          "output_type": "execute_result",
          "data": {
            "text/plain": [
              "GRUPO_ETNICO\n",
              "Afrocolombiano (a)                                   8580\n",
              "Comunidad Negra                                       148\n",
              "Indígena                                             7135\n",
              "No se autoreconoce en ninguno de los anteriores     58580\n",
              "Palenquero (a)                                         28\n",
              "Raizal                                                564\n",
              "Rom/Gitano                                             44\n",
              "Sin Información                                    162770\n",
              "dtype: int64"
            ]
          },
          "metadata": {},
          "execution_count": 10
        }
      ]
    },
    {
      "cell_type": "code",
      "source": [
        "#¿Que rango de edad que se encuentran en el registro?\n",
        "datos.groupby(\"RANGO_EDAD\").size()"
      ],
      "metadata": {
        "colab": {
          "base_uri": "https://localhost:8080/"
        },
        "id": "nudKc7MKEZAk",
        "outputId": "a08fffbb-1a03-4776-894b-7cea97bc3659"
      },
      "execution_count": null,
      "outputs": [
        {
          "output_type": "execute_result",
          "data": {
            "text/plain": [
              "RANGO_EDAD\n",
              "De 0 a 5 años              63119\n",
              "De 12 a 17 años            98993\n",
              "De 6 a 11 Años             72036\n",
              "Mayor o igual a 18 años     2431\n",
              "Sin Información             1270\n",
              "dtype: int64"
            ]
          },
          "metadata": {},
          "execution_count": 2
        }
      ]
    },
    {
      "cell_type": "code",
      "source": [
        "#¿Cuál es el sexo que más ingresó en el 2021?\n",
        "y2021=datos[(datos.AÑO==2021)&((datos.SEXO==\"Femenino\")|(datos.SEXO==\"Masculino\"))]\n",
        "y2021.groupby(\"SEXO\").size()\n"
      ],
      "metadata": {
        "id": "r6iAEpk0Gyap",
        "colab": {
          "base_uri": "https://localhost:8080/"
        },
        "outputId": "8a3b00d5-4202-44f8-b5e9-0c26c8742096"
      },
      "execution_count": 10,
      "outputs": [
        {
          "output_type": "execute_result",
          "data": {
            "text/plain": [
              "SEXO\n",
              "Femenino     15143\n",
              "Masculino    11856\n",
              "dtype: int64"
            ]
          },
          "metadata": {},
          "execution_count": 10
        }
      ]
    },
    {
      "cell_type": "code",
      "source": [
        "#Mostrar cuál es el principal motivo de ingreso \n",
        "datos.MOTIVO_DE_INGRESO.max()"
      ],
      "metadata": {
        "id": "pkAX-73iCNrE",
        "colab": {
          "base_uri": "https://localhost:8080/",
          "height": 35
        },
        "outputId": "be5b51f8-166d-4372-9904-ad721eb266fa"
      },
      "execution_count": null,
      "outputs": [
        {
          "output_type": "execute_result",
          "data": {
            "text/plain": [
              "'Violencia Sexual'"
            ],
            "application/vnd.google.colaboratory.intrinsic+json": {
              "type": "string"
            }
          },
          "metadata": {},
          "execution_count": 5
        }
      ]
    }
  ]
}